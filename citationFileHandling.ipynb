{
 "cells": [
  {
   "cell_type": "code",
   "execution_count": null,
   "id": "2b462f48",
   "metadata": {},
   "outputs": [],
   "source": [
    "import pandas as pd\n",
    "import numpy as np\n",
    "import json"
   ]
  },
  {
   "cell_type": "code",
   "execution_count": null,
   "id": "c4a8c2a3",
   "metadata": {},
   "outputs": [],
   "source": [
    "df_meta = pd.read_csv(\"metadata/metadata.csv\")"
   ]
  },
  {
   "cell_type": "code",
   "execution_count": null,
   "id": "b4012cb1",
   "metadata": {},
   "outputs": [],
   "source": [
    "df_meta.pdf_json_files.nunique(dropna = True)"
   ]
  },
  {
   "cell_type": "code",
   "execution_count": null,
   "id": "cda8fe12",
   "metadata": {},
   "outputs": [],
   "source": [
    "df = df_meta.groupby('pdf_json_files').agg('first').reset_index()"
   ]
  },
  {
   "cell_type": "code",
   "execution_count": null,
   "id": "9f87544b",
   "metadata": {},
   "outputs": [],
   "source": [
    "# def get_document(filename):\n",
    "#     if type(filename)!=float:\n",
    "#         json_file = filename.split('/')[-1]\n",
    "#         path = f\"C://Users//user//Downloads//Practicum_dataHandling//pdf_json//{json_file}\"\n",
    "#         try:\n",
    "#             with open(path,'r') as f:\n",
    "#                 data = json.load(f)\n",
    "                \n",
    "#             citations = data.get('bib_entries')\n",
    "#             size = len(citations)\n",
    "#             bib_ref.append(size)\n",
    "#         except:\n",
    "#             bib_ref.append(' ')\n",
    "            \n",
    "#         temp_title = data.get('metadata')\n",
    "#         title = temp_title.get('title')\n",
    "#         abstract = ''\n",
    "#         for obj1 in data.get('abstract'):\n",
    "#             abstract = abstract + '' + obj1.get('text')\n",
    "        \n",
    "#         merged_text = ''\n",
    "#         for obj2 in data.get('body_text'):\n",
    "#             text = obj2.get('text')\n",
    "#             merged_text = merged_text + ' ' + text\n",
    "\n",
    "#         combined_text = title + abstract + merged_text\n",
    "#         print(combined_text)\n",
    "#         write_path = f\"C://Users//user//Downloads//Practicum_dataHandling//pdf_text//{json_file.split('.')[0]}.txt\"\n",
    "#         with open(write_path, 'w', encoding=\"utf-8\") as f:\n",
    "#             f.write(combined_text)\n",
    "#         return 200"
   ]
  },
  {
   "cell_type": "code",
   "execution_count": null,
   "id": "e4b46493",
   "metadata": {},
   "outputs": [],
   "source": [
    "def get_document(filename):\n",
    "    if type(filename)!=float:\n",
    "        json_file = filename.split('/')[-1]\n",
    "        path = f\"C://Users//user//Downloads//Practicum_dataHandling//pdf_json//{json_file}\"\n",
    "        try:\n",
    "            with open(path,'r') as f:\n",
    "                data = json.load(f)\n",
    "                \n",
    "                title = data.get('metadata').get('title')\n",
    "               \n",
    "                abstract = '' \n",
    "                reference_title = ''\n",
    "                for obj1 in data.get('abstract'):\n",
    "                    abstract = abstract + '' + obj1.get('text')\n",
    "        \n",
    "                for k,v in data.get('bib_entries').items():\n",
    "                    reference_title = reference_title + '' + v.get('title') \n",
    "                \n",
    "                data_bank = title + abstract + reference_title\n",
    "                \n",
    "                write_path = f\"C://Users//user//Downloads//Practicum_dataHandling//pdfText//{json_file.split('.')[0]}.txt\"\n",
    "                with open(write_path, 'w', encoding=\"utf-8\") as f:\n",
    "                    f.write(data_bank)\n",
    "        except:\n",
    "        \n",
    "            return 200       "
   ]
  },
  {
   "cell_type": "code",
   "execution_count": null,
   "id": "058007d8",
   "metadata": {},
   "outputs": [],
   "source": [
    "for filename in df_meta.pdf_json_files:\n",
    "    get_document(filename)"
   ]
  },
  {
   "cell_type": "code",
   "execution_count": null,
   "id": "59892d36",
   "metadata": {},
   "outputs": [],
   "source": [
    "bib_ref = []\n",
    "for filename in df.pdf_json_files:\n",
    "    get_document(filename)\n",
    "    \n",
    "df['citation_num'] = bib_ref"
   ]
  },
  {
   "cell_type": "code",
   "execution_count": null,
   "id": "cd31a6e2",
   "metadata": {},
   "outputs": [],
   "source": [
    "df.head()"
   ]
  },
  {
   "cell_type": "code",
   "execution_count": null,
   "id": "412e2682",
   "metadata": {},
   "outputs": [],
   "source": [
    "import os\n",
    "corpus_path =  \"C://Users//user//Downloads//Practicum_dataHandling//pdfText\""
   ]
  },
  {
   "cell_type": "code",
   "execution_count": null,
   "id": "005b0ca7",
   "metadata": {},
   "outputs": [],
   "source": [
    "document_obj = {}\n",
    "for i in range(len(df_meta[\"pdf_json_files\"])):\n",
    "    if type(df_meta[\"pdf_json_files\"][i])!=float:\n",
    "        file = df_meta[\"pdf_json_files\"].iloc[i].split('/')[-1].split('.')[0]\n",
    "        file_path = f\"{corpus_path}//{file}.txt\"\n",
    "        with open(file_path,'r',encoding=\"utf8\") as f:\n",
    "            content = f.read()\n",
    "        document_obj[df_meta['cord_uid'].iloc[i]]=content"
   ]
  },
  {
   "cell_type": "code",
   "execution_count": null,
   "id": "01ebb058",
   "metadata": {},
   "outputs": [],
   "source": [
    "with open('C://Users//user//Downloads//Practicum_dataHandling//corpusData.json','w') as f:\n",
    "    json.dump(document_obj,f)"
   ]
  },
  {
   "cell_type": "code",
   "execution_count": null,
   "id": "6a6b69a5",
   "metadata": {},
   "outputs": [],
   "source": [
    "document_obj"
   ]
  },
  {
   "cell_type": "code",
   "execution_count": null,
   "id": "101c12ff",
   "metadata": {},
   "outputs": [],
   "source": []
  }
 ],
 "metadata": {
  "kernelspec": {
   "display_name": "Python 3 (ipykernel)",
   "language": "python",
   "name": "python3"
  },
  "language_info": {
   "codemirror_mode": {
    "name": "ipython",
    "version": 3
   },
   "file_extension": ".py",
   "mimetype": "text/x-python",
   "name": "python",
   "nbconvert_exporter": "python",
   "pygments_lexer": "ipython3",
   "version": "3.9.12"
  }
 },
 "nbformat": 4,
 "nbformat_minor": 5
}
